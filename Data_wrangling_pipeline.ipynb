{
 "cells": [
  {
   "cell_type": "code",
   "execution_count": 1,
   "id": "15b28394-72e1-4b41-9304-ca6f5436b05c",
   "metadata": {},
   "outputs": [],
   "source": [
    "import pandas as pd"
   ]
  },
  {
   "cell_type": "markdown",
   "id": "189769e8-f0c5-4edd-b539-47dea314ab82",
   "metadata": {},
   "source": [
    "#  Data Cleaning & Wrangling with pandas"
   ]
  },
  {
   "cell_type": "code",
   "execution_count": 3,
   "id": "ffb86df9-ab3d-4267-8585-19a61af8bedc",
   "metadata": {},
   "outputs": [],
   "source": [
    "# collect data \n",
    "url_link = \"https://en.wikipedia.org/wiki/List_of_largest_companies_by_revenue\"\n",
    "import pandas as pd"
   ]
  },
  {
   "cell_type": "code",
   "execution_count": 4,
   "id": "ec401332-cb11-4d9c-b286-16ebc1979c17",
   "metadata": {},
   "outputs": [
    {
     "data": {
      "text/plain": [
       "pandas.core.frame.DataFrame"
      ]
     },
     "execution_count": 4,
     "metadata": {},
     "output_type": "execute_result"
    }
   ],
   "source": [
    "df = pd.read_html(url_link)\n",
    "\n",
    "#convert to df by indexing the first row\n",
    "df = df[0]\n",
    "type(df)"
   ]
  },
  {
   "cell_type": "code",
   "execution_count": 5,
   "id": "49fa8bcd-453d-489a-abbc-fb88287a2e1d",
   "metadata": {},
   "outputs": [
    {
     "data": {
      "text/html": [
       "<div>\n",
       "<style scoped>\n",
       "    .dataframe tbody tr th:only-of-type {\n",
       "        vertical-align: middle;\n",
       "    }\n",
       "\n",
       "    .dataframe tbody tr th {\n",
       "        vertical-align: top;\n",
       "    }\n",
       "\n",
       "    .dataframe thead tr th {\n",
       "        text-align: left;\n",
       "    }\n",
       "</style>\n",
       "<table border=\"1\" class=\"dataframe\">\n",
       "  <thead>\n",
       "    <tr>\n",
       "      <th></th>\n",
       "      <th>Ranks</th>\n",
       "      <th>Name</th>\n",
       "      <th>Industry</th>\n",
       "      <th>Revenue</th>\n",
       "      <th>Profit</th>\n",
       "      <th>Employees</th>\n",
       "      <th>Headquarters[note 1]</th>\n",
       "      <th>State-owned</th>\n",
       "      <th>Ref.</th>\n",
       "    </tr>\n",
       "    <tr>\n",
       "      <th></th>\n",
       "      <th>Ranks</th>\n",
       "      <th>Name</th>\n",
       "      <th>Industry</th>\n",
       "      <th>USD (in millions)</th>\n",
       "      <th>USD (in millions)</th>\n",
       "      <th>Employees</th>\n",
       "      <th>Headquarters[note 1]</th>\n",
       "      <th>State-owned</th>\n",
       "      <th>Ref.</th>\n",
       "    </tr>\n",
       "  </thead>\n",
       "  <tbody>\n",
       "    <tr>\n",
       "      <th>0</th>\n",
       "      <td>1</td>\n",
       "      <td>Walmart</td>\n",
       "      <td>Retail</td>\n",
       "      <td>$680,985</td>\n",
       "      <td>$19,436</td>\n",
       "      <td>2100000</td>\n",
       "      <td>United States</td>\n",
       "      <td>NaN</td>\n",
       "      <td>[1]</td>\n",
       "    </tr>\n",
       "    <tr>\n",
       "      <th>1</th>\n",
       "      <td>2</td>\n",
       "      <td>Amazon</td>\n",
       "      <td>Retail  information technology</td>\n",
       "      <td>$637,959</td>\n",
       "      <td>$59,248</td>\n",
       "      <td>1556000</td>\n",
       "      <td>United States</td>\n",
       "      <td>NaN</td>\n",
       "      <td>[4]</td>\n",
       "    </tr>\n",
       "    <tr>\n",
       "      <th>2</th>\n",
       "      <td>3</td>\n",
       "      <td>State Grid Corporation of China</td>\n",
       "      <td>Electricity</td>\n",
       "      <td>$545,948</td>\n",
       "      <td>$9,204</td>\n",
       "      <td>1361423</td>\n",
       "      <td>China</td>\n",
       "      <td>NaN</td>\n",
       "      <td>[5]</td>\n",
       "    </tr>\n",
       "    <tr>\n",
       "      <th>3</th>\n",
       "      <td>4</td>\n",
       "      <td>Saudi Aramco</td>\n",
       "      <td>Oil and gas</td>\n",
       "      <td>$480,446</td>\n",
       "      <td>$106,246</td>\n",
       "      <td>73311</td>\n",
       "      <td>Saudi Arabia</td>\n",
       "      <td>NaN</td>\n",
       "      <td>[6]</td>\n",
       "    </tr>\n",
       "    <tr>\n",
       "      <th>4</th>\n",
       "      <td>5</td>\n",
       "      <td>China Petrochemical Corporation</td>\n",
       "      <td>Oil and gas</td>\n",
       "      <td>$429,700</td>\n",
       "      <td>$9,393</td>\n",
       "      <td>513434</td>\n",
       "      <td>China</td>\n",
       "      <td>NaN</td>\n",
       "      <td>[7]</td>\n",
       "    </tr>\n",
       "  </tbody>\n",
       "</table>\n",
       "</div>"
      ],
      "text/plain": [
       "  Ranks                             Name                        Industry  \\\n",
       "  Ranks                             Name                        Industry   \n",
       "0     1                          Walmart                          Retail   \n",
       "1     2                           Amazon  Retail  information technology   \n",
       "2     3  State Grid Corporation of China                     Electricity   \n",
       "3     4                     Saudi Aramco                     Oil and gas   \n",
       "4     5  China Petrochemical Corporation                     Oil and gas   \n",
       "\n",
       "            Revenue            Profit Employees Headquarters[note 1]  \\\n",
       "  USD (in millions) USD (in millions) Employees Headquarters[note 1]   \n",
       "0          $680,985           $19,436   2100000        United States   \n",
       "1          $637,959           $59,248   1556000        United States   \n",
       "2          $545,948            $9,204   1361423                China   \n",
       "3          $480,446          $106,246     73311         Saudi Arabia   \n",
       "4          $429,700            $9,393    513434                China   \n",
       "\n",
       "  State-owned Ref.  \n",
       "  State-owned Ref.  \n",
       "0         NaN  [1]  \n",
       "1         NaN  [4]  \n",
       "2         NaN  [5]  \n",
       "3         NaN  [6]  \n",
       "4         NaN  [7]  "
      ]
     },
     "execution_count": 5,
     "metadata": {},
     "output_type": "execute_result"
    }
   ],
   "source": [
    "df.head()"
   ]
  },
  {
   "cell_type": "markdown",
   "id": "54b75719-5fb5-494b-800a-8bd68d40ee22",
   "metadata": {},
   "source": [
    "#### cleaning goals\n",
    "- remove double heading(multiindex) to singleindex: google search \n",
    "- drop unnecessary column\n",
    "- check for duplicates\n",
    "- check and remove nulls "
   ]
  },
  {
   "cell_type": "markdown",
   "id": "a0abdbb8-23d7-4abe-8063-87fe911d6f57",
   "metadata": {},
   "source": [
    "##### explore  data \n",
    "- df.tail()\n",
    "- df.shape \n",
    "- df.info()\n",
    "- df.unique(): to check for inconsistencies"
   ]
  },
  {
   "cell_type": "code",
   "execution_count": 8,
   "id": "b7c16ade-98ce-4dd5-918a-990043a922c4",
   "metadata": {},
   "outputs": [
    {
     "data": {
      "text/plain": [
       "MultiIndex([(               'Ranks',                'Ranks'),\n",
       "            (                'Name',                 'Name'),\n",
       "            (            'Industry',             'Industry'),\n",
       "            (             'Revenue',    'USD (in millions)'),\n",
       "            (              'Profit',    'USD (in millions)'),\n",
       "            (           'Employees',            'Employees'),\n",
       "            ('Headquarters[note 1]', 'Headquarters[note 1]'),\n",
       "            (         'State-owned',          'State-owned'),\n",
       "            (                'Ref.',                 'Ref.')],\n",
       "           )"
      ]
     },
     "execution_count": 8,
     "metadata": {},
     "output_type": "execute_result"
    }
   ],
   "source": [
    "df.columns"
   ]
  },
  {
   "cell_type": "code",
   "execution_count": 9,
   "id": "821cb444-a90a-4ebe-8d4d-522f9c14e22b",
   "metadata": {},
   "outputs": [
    {
     "data": {
      "text/html": [
       "<div>\n",
       "<style scoped>\n",
       "    .dataframe tbody tr th:only-of-type {\n",
       "        vertical-align: middle;\n",
       "    }\n",
       "\n",
       "    .dataframe tbody tr th {\n",
       "        vertical-align: top;\n",
       "    }\n",
       "\n",
       "    .dataframe thead th {\n",
       "        text-align: right;\n",
       "    }\n",
       "</style>\n",
       "<table border=\"1\" class=\"dataframe\">\n",
       "  <thead>\n",
       "    <tr style=\"text-align: right;\">\n",
       "      <th></th>\n",
       "      <th>Ranks</th>\n",
       "      <th>Name</th>\n",
       "      <th>Industry</th>\n",
       "      <th>Revenue</th>\n",
       "      <th>Profit</th>\n",
       "      <th>Employees</th>\n",
       "      <th>Headquarters[note 1]</th>\n",
       "      <th>State-owned</th>\n",
       "      <th>Ref.</th>\n",
       "    </tr>\n",
       "  </thead>\n",
       "  <tbody>\n",
       "    <tr>\n",
       "      <th>0</th>\n",
       "      <td>1</td>\n",
       "      <td>Walmart</td>\n",
       "      <td>Retail</td>\n",
       "      <td>$680,985</td>\n",
       "      <td>$19,436</td>\n",
       "      <td>2100000</td>\n",
       "      <td>United States</td>\n",
       "      <td>NaN</td>\n",
       "      <td>[1]</td>\n",
       "    </tr>\n",
       "    <tr>\n",
       "      <th>1</th>\n",
       "      <td>2</td>\n",
       "      <td>Amazon</td>\n",
       "      <td>Retail  information technology</td>\n",
       "      <td>$637,959</td>\n",
       "      <td>$59,248</td>\n",
       "      <td>1556000</td>\n",
       "      <td>United States</td>\n",
       "      <td>NaN</td>\n",
       "      <td>[4]</td>\n",
       "    </tr>\n",
       "  </tbody>\n",
       "</table>\n",
       "</div>"
      ],
      "text/plain": [
       "   Ranks     Name                        Industry   Revenue   Profit  \\\n",
       "0      1  Walmart                          Retail  $680,985  $19,436   \n",
       "1      2   Amazon  Retail  information technology  $637,959  $59,248   \n",
       "\n",
       "   Employees Headquarters[note 1]  State-owned Ref.  \n",
       "0    2100000        United States          NaN  [1]  \n",
       "1    1556000        United States          NaN  [4]  "
      ]
     },
     "execution_count": 9,
     "metadata": {},
     "output_type": "execute_result"
    }
   ],
   "source": [
    "# convert multiindex column to single index collumn\n",
    "df.columns = df.columns.get_level_values(0)\n",
    "df.head(2)"
   ]
  },
  {
   "cell_type": "code",
   "execution_count": 10,
   "id": "568bc8f8-c6e9-4d69-844f-06fb27203af6",
   "metadata": {},
   "outputs": [],
   "source": [
    "# delette unnecessary columns\n",
    "df.drop(['Ref.'], axis=1, inplace=True)"
   ]
  },
  {
   "cell_type": "code",
   "execution_count": 11,
   "id": "d4a0221c-4bc0-45fa-af07-404aa333ccb4",
   "metadata": {},
   "outputs": [
    {
     "data": {
      "text/html": [
       "<div>\n",
       "<style scoped>\n",
       "    .dataframe tbody tr th:only-of-type {\n",
       "        vertical-align: middle;\n",
       "    }\n",
       "\n",
       "    .dataframe tbody tr th {\n",
       "        vertical-align: top;\n",
       "    }\n",
       "\n",
       "    .dataframe thead th {\n",
       "        text-align: right;\n",
       "    }\n",
       "</style>\n",
       "<table border=\"1\" class=\"dataframe\">\n",
       "  <thead>\n",
       "    <tr style=\"text-align: right;\">\n",
       "      <th></th>\n",
       "      <th>Ranks</th>\n",
       "      <th>Name</th>\n",
       "      <th>Industry</th>\n",
       "      <th>Revenue</th>\n",
       "      <th>Profit</th>\n",
       "      <th>Employees</th>\n",
       "      <th>Headquarters[note 1]</th>\n",
       "    </tr>\n",
       "  </thead>\n",
       "  <tbody>\n",
       "    <tr>\n",
       "      <th>0</th>\n",
       "      <td>1</td>\n",
       "      <td>Walmart</td>\n",
       "      <td>Retail</td>\n",
       "      <td>$680,985</td>\n",
       "      <td>$19,436</td>\n",
       "      <td>2100000</td>\n",
       "      <td>United States</td>\n",
       "    </tr>\n",
       "    <tr>\n",
       "      <th>1</th>\n",
       "      <td>2</td>\n",
       "      <td>Amazon</td>\n",
       "      <td>Retail  information technology</td>\n",
       "      <td>$637,959</td>\n",
       "      <td>$59,248</td>\n",
       "      <td>1556000</td>\n",
       "      <td>United States</td>\n",
       "    </tr>\n",
       "    <tr>\n",
       "      <th>2</th>\n",
       "      <td>3</td>\n",
       "      <td>State Grid Corporation of China</td>\n",
       "      <td>Electricity</td>\n",
       "      <td>$545,948</td>\n",
       "      <td>$9,204</td>\n",
       "      <td>1361423</td>\n",
       "      <td>China</td>\n",
       "    </tr>\n",
       "    <tr>\n",
       "      <th>3</th>\n",
       "      <td>4</td>\n",
       "      <td>Saudi Aramco</td>\n",
       "      <td>Oil and gas</td>\n",
       "      <td>$480,446</td>\n",
       "      <td>$106,246</td>\n",
       "      <td>73311</td>\n",
       "      <td>Saudi Arabia</td>\n",
       "    </tr>\n",
       "    <tr>\n",
       "      <th>4</th>\n",
       "      <td>5</td>\n",
       "      <td>China Petrochemical Corporation</td>\n",
       "      <td>Oil and gas</td>\n",
       "      <td>$429,700</td>\n",
       "      <td>$9,393</td>\n",
       "      <td>513434</td>\n",
       "      <td>China</td>\n",
       "    </tr>\n",
       "  </tbody>\n",
       "</table>\n",
       "</div>"
      ],
      "text/plain": [
       "   Ranks                             Name                        Industry  \\\n",
       "0      1                          Walmart                          Retail   \n",
       "1      2                           Amazon  Retail  information technology   \n",
       "2      3  State Grid Corporation of China                     Electricity   \n",
       "3      4                     Saudi Aramco                     Oil and gas   \n",
       "4      5  China Petrochemical Corporation                     Oil and gas   \n",
       "\n",
       "    Revenue    Profit  Employees Headquarters[note 1]  \n",
       "0  $680,985   $19,436    2100000        United States  \n",
       "1  $637,959   $59,248    1556000        United States  \n",
       "2  $545,948    $9,204    1361423                China  \n",
       "3  $480,446  $106,246      73311         Saudi Arabia  \n",
       "4  $429,700    $9,393     513434                China  "
      ]
     },
     "execution_count": 11,
     "metadata": {},
     "output_type": "execute_result"
    }
   ],
   "source": [
    "df.drop(['State-owned'], axis=1, inplace=True)\n",
    "df.head()"
   ]
  },
  {
   "cell_type": "code",
   "execution_count": 12,
   "id": "38040e26-e805-41ca-aa5f-11bc73a31ce0",
   "metadata": {},
   "outputs": [
    {
     "name": "stdout",
     "output_type": "stream",
     "text": [
      "<class 'pandas.core.frame.DataFrame'>\n",
      "RangeIndex: 49 entries, 0 to 48\n",
      "Data columns (total 7 columns):\n",
      " #   Column                Non-Null Count  Dtype \n",
      "---  ------                --------------  ----- \n",
      " 0   Ranks                 49 non-null     int64 \n",
      " 1   Name                  49 non-null     object\n",
      " 2   Industry              49 non-null     object\n",
      " 3   Revenue               49 non-null     object\n",
      " 4   Profit                49 non-null     object\n",
      " 5   Employees             49 non-null     int64 \n",
      " 6   Headquarters[note 1]  49 non-null     object\n",
      "dtypes: int64(2), object(5)\n",
      "memory usage: 2.8+ KB\n"
     ]
    }
   ],
   "source": [
    "df.info()"
   ]
  },
  {
   "cell_type": "markdown",
   "id": "6aa25960-5ce1-4bd4-bad6-0d0151c63035",
   "metadata": {},
   "source": [
    "- no missing info(nulls)\n",
    "- revenue and profit should be int. not objects "
   ]
  },
  {
   "cell_type": "markdown",
   "id": "1ce8f7fd-2724-4621-b764-dac5d78c26c0",
   "metadata": {},
   "source": [
    "- No duplicates"
   ]
  },
  {
   "cell_type": "code",
   "execution_count": 22,
   "id": "e4116443-7b41-4e13-b31d-1e047e53f323",
   "metadata": {},
   "outputs": [
    {
     "data": {
      "text/html": [
       "<div>\n",
       "<style scoped>\n",
       "    .dataframe tbody tr th:only-of-type {\n",
       "        vertical-align: middle;\n",
       "    }\n",
       "\n",
       "    .dataframe tbody tr th {\n",
       "        vertical-align: top;\n",
       "    }\n",
       "\n",
       "    .dataframe thead th {\n",
       "        text-align: right;\n",
       "    }\n",
       "</style>\n",
       "<table border=\"1\" class=\"dataframe\">\n",
       "  <thead>\n",
       "    <tr style=\"text-align: right;\">\n",
       "      <th></th>\n",
       "      <th>Ranks</th>\n",
       "      <th>Name</th>\n",
       "      <th>Industry</th>\n",
       "      <th>Revenue</th>\n",
       "      <th>Profit</th>\n",
       "      <th>Employees</th>\n",
       "      <th>Headquarters[note 1]</th>\n",
       "    </tr>\n",
       "  </thead>\n",
       "  <tbody>\n",
       "    <tr>\n",
       "      <th>0</th>\n",
       "      <td>1</td>\n",
       "      <td>Walmart</td>\n",
       "      <td>Retail</td>\n",
       "      <td>$680,985</td>\n",
       "      <td>$19,436</td>\n",
       "      <td>2100000</td>\n",
       "      <td>United States</td>\n",
       "    </tr>\n",
       "    <tr>\n",
       "      <th>1</th>\n",
       "      <td>2</td>\n",
       "      <td>Amazon</td>\n",
       "      <td>Retail  information technology</td>\n",
       "      <td>$637,959</td>\n",
       "      <td>$59,248</td>\n",
       "      <td>1556000</td>\n",
       "      <td>United States</td>\n",
       "    </tr>\n",
       "  </tbody>\n",
       "</table>\n",
       "</div>"
      ],
      "text/plain": [
       "   Ranks     Name                        Industry   Revenue   Profit  \\\n",
       "0      1  Walmart                          Retail  $680,985  $19,436   \n",
       "1      2   Amazon  Retail  information technology  $637,959  $59,248   \n",
       "\n",
       "   Employees Headquarters[note 1]  \n",
       "0    2100000        United States  \n",
       "1    1556000        United States  "
      ]
     },
     "execution_count": 22,
     "metadata": {},
     "output_type": "execute_result"
    }
   ],
   "source": [
    "df.head(2)"
   ]
  },
  {
   "cell_type": "code",
   "execution_count": 24,
   "id": "aaad47a3-20d7-4a2a-92c3-1ba7025d5d75",
   "metadata": {},
   "outputs": [
    {
     "data": {
      "text/html": [
       "<div>\n",
       "<style scoped>\n",
       "    .dataframe tbody tr th:only-of-type {\n",
       "        vertical-align: middle;\n",
       "    }\n",
       "\n",
       "    .dataframe tbody tr th {\n",
       "        vertical-align: top;\n",
       "    }\n",
       "\n",
       "    .dataframe thead th {\n",
       "        text-align: right;\n",
       "    }\n",
       "</style>\n",
       "<table border=\"1\" class=\"dataframe\">\n",
       "  <thead>\n",
       "    <tr style=\"text-align: right;\">\n",
       "      <th></th>\n",
       "      <th>Ranking</th>\n",
       "      <th>CompanyName</th>\n",
       "      <th>Industry</th>\n",
       "      <th>Revenue</th>\n",
       "      <th>Profit</th>\n",
       "      <th>EmployeeNumber</th>\n",
       "      <th>Headquaters</th>\n",
       "    </tr>\n",
       "  </thead>\n",
       "  <tbody>\n",
       "    <tr>\n",
       "      <th>0</th>\n",
       "      <td>1</td>\n",
       "      <td>Walmart</td>\n",
       "      <td>Retail</td>\n",
       "      <td>$680,985</td>\n",
       "      <td>$19,436</td>\n",
       "      <td>2100000</td>\n",
       "      <td>United States</td>\n",
       "    </tr>\n",
       "    <tr>\n",
       "      <th>1</th>\n",
       "      <td>2</td>\n",
       "      <td>Amazon</td>\n",
       "      <td>Retail  information technology</td>\n",
       "      <td>$637,959</td>\n",
       "      <td>$59,248</td>\n",
       "      <td>1556000</td>\n",
       "      <td>United States</td>\n",
       "    </tr>\n",
       "  </tbody>\n",
       "</table>\n",
       "</div>"
      ],
      "text/plain": [
       "   Ranking CompanyName                        Industry   Revenue   Profit  \\\n",
       "0        1     Walmart                          Retail  $680,985  $19,436   \n",
       "1        2      Amazon  Retail  information technology  $637,959  $59,248   \n",
       "\n",
       "   EmployeeNumber    Headquaters  \n",
       "0         2100000  United States  \n",
       "1         1556000  United States  "
      ]
     },
     "execution_count": 24,
     "metadata": {},
     "output_type": "execute_result"
    }
   ],
   "source": [
    "# Rename columns \n",
    "df.rename(columns=\n",
    "         {\n",
    "          'Rank': 'Ranking',\n",
    "          'Name': 'CompanyName',\n",
    "          'Headquarters[note 1]': 'Headquaters',\n",
    "          'Employees': 'EmployeeNumber'\n",
    "         }, inplace=True\n",
    "         )\n",
    "df.head(2)"
   ]
  },
  {
   "cell_type": "code",
   "execution_count": 25,
   "id": "09688e80-a47c-448b-aafc-140127137410",
   "metadata": {},
   "outputs": [
    {
     "data": {
      "text/plain": [
       "0    $680,985\n",
       "1    $637,959\n",
       "Name: Revenue, dtype: object"
      ]
     },
     "execution_count": 25,
     "metadata": {},
     "output_type": "execute_result"
    }
   ],
   "source": [
    "# conert Rev. column to float \n",
    "df['Revenue'].head(2)"
   ]
  },
  {
   "cell_type": "code",
   "execution_count": 26,
   "id": "c23ee23e-6d81-4ace-b36b-9bde6aae89db",
   "metadata": {},
   "outputs": [
    {
     "data": {
      "text/plain": [
       "0    680,985\n",
       "1    637,959\n",
       "Name: Revenue, dtype: object"
      ]
     },
     "execution_count": 26,
     "metadata": {},
     "output_type": "execute_result"
    }
   ],
   "source": [
    "# remove the $ sign from Rev column \n",
    "df['Revenue'] = df['Revenue'].str.replace('$', '') #rlace with nothing \n",
    "df['Revenue'].head(2)"
   ]
  },
  {
   "cell_type": "code",
   "execution_count": 27,
   "id": "5812ae8b-c111-4893-85a9-8fa7fd4062ae",
   "metadata": {},
   "outputs": [
    {
     "data": {
      "text/plain": [
       "0    19,436\n",
       "1    59,248\n",
       "Name: Profit, dtype: object"
      ]
     },
     "execution_count": 27,
     "metadata": {},
     "output_type": "execute_result"
    }
   ],
   "source": [
    "# remove the $ sign from profit column \n",
    "df['Profit'] = df['Profit'].str.replace('$', '') #rlace with nothing \n",
    "df['Profit'].head(2)"
   ]
  },
  {
   "cell_type": "code",
   "execution_count": 28,
   "id": "60963d7f-07e9-44de-9313-73063d1f44db",
   "metadata": {},
   "outputs": [
    {
     "data": {
      "text/plain": [
       "0    680985\n",
       "1    637959\n",
       "Name: Revenue, dtype: object"
      ]
     },
     "execution_count": 28,
     "metadata": {},
     "output_type": "execute_result"
    }
   ],
   "source": [
    "# remove the (,) from the Rev\n",
    "df['Revenue'] = df['Revenue'].str.replace(',', '') #relace with nothing \n",
    "df['Revenue'].head(2)"
   ]
  },
  {
   "cell_type": "code",
   "execution_count": 29,
   "id": "157ee889-34a4-4514-a093-ff8c58c77dc0",
   "metadata": {},
   "outputs": [
    {
     "data": {
      "text/plain": [
       "0    19436\n",
       "1    59248\n",
       "Name: Profit, dtype: object"
      ]
     },
     "execution_count": 29,
     "metadata": {},
     "output_type": "execute_result"
    }
   ],
   "source": [
    "# remove the (,) from the profit\n",
    "df['Profit'] = df['Profit'].str.replace(',', '') #relace with nothing \n",
    "df['Profit'].head(2)"
   ]
  },
  {
   "cell_type": "code",
   "execution_count": 30,
   "id": "0e198126-538e-4526-8509-1ab98e940775",
   "metadata": {},
   "outputs": [
    {
     "data": {
      "text/html": [
       "<div>\n",
       "<style scoped>\n",
       "    .dataframe tbody tr th:only-of-type {\n",
       "        vertical-align: middle;\n",
       "    }\n",
       "\n",
       "    .dataframe tbody tr th {\n",
       "        vertical-align: top;\n",
       "    }\n",
       "\n",
       "    .dataframe thead th {\n",
       "        text-align: right;\n",
       "    }\n",
       "</style>\n",
       "<table border=\"1\" class=\"dataframe\">\n",
       "  <thead>\n",
       "    <tr style=\"text-align: right;\">\n",
       "      <th></th>\n",
       "      <th>Ranking</th>\n",
       "      <th>CompanyName</th>\n",
       "      <th>Industry</th>\n",
       "      <th>Revenue</th>\n",
       "      <th>Profit</th>\n",
       "      <th>EmployeeNumber</th>\n",
       "      <th>Headquaters</th>\n",
       "    </tr>\n",
       "  </thead>\n",
       "  <tbody>\n",
       "    <tr>\n",
       "      <th>0</th>\n",
       "      <td>1</td>\n",
       "      <td>Walmart</td>\n",
       "      <td>Retail</td>\n",
       "      <td>680985</td>\n",
       "      <td>19436</td>\n",
       "      <td>2100000</td>\n",
       "      <td>United States</td>\n",
       "    </tr>\n",
       "    <tr>\n",
       "      <th>1</th>\n",
       "      <td>2</td>\n",
       "      <td>Amazon</td>\n",
       "      <td>Retail  information technology</td>\n",
       "      <td>637959</td>\n",
       "      <td>59248</td>\n",
       "      <td>1556000</td>\n",
       "      <td>United States</td>\n",
       "    </tr>\n",
       "    <tr>\n",
       "      <th>2</th>\n",
       "      <td>3</td>\n",
       "      <td>State Grid Corporation of China</td>\n",
       "      <td>Electricity</td>\n",
       "      <td>545948</td>\n",
       "      <td>9204</td>\n",
       "      <td>1361423</td>\n",
       "      <td>China</td>\n",
       "    </tr>\n",
       "    <tr>\n",
       "      <th>3</th>\n",
       "      <td>4</td>\n",
       "      <td>Saudi Aramco</td>\n",
       "      <td>Oil and gas</td>\n",
       "      <td>480446</td>\n",
       "      <td>106246</td>\n",
       "      <td>73311</td>\n",
       "      <td>Saudi Arabia</td>\n",
       "    </tr>\n",
       "    <tr>\n",
       "      <th>4</th>\n",
       "      <td>5</td>\n",
       "      <td>China Petrochemical Corporation</td>\n",
       "      <td>Oil and gas</td>\n",
       "      <td>429700</td>\n",
       "      <td>9393</td>\n",
       "      <td>513434</td>\n",
       "      <td>China</td>\n",
       "    </tr>\n",
       "  </tbody>\n",
       "</table>\n",
       "</div>"
      ],
      "text/plain": [
       "   Ranking                      CompanyName                        Industry  \\\n",
       "0        1                          Walmart                          Retail   \n",
       "1        2                           Amazon  Retail  information technology   \n",
       "2        3  State Grid Corporation of China                     Electricity   \n",
       "3        4                     Saudi Aramco                     Oil and gas   \n",
       "4        5  China Petrochemical Corporation                     Oil and gas   \n",
       "\n",
       "  Revenue  Profit  EmployeeNumber    Headquaters  \n",
       "0  680985   19436         2100000  United States  \n",
       "1  637959   59248         1556000  United States  \n",
       "2  545948    9204         1361423          China  \n",
       "3  480446  106246           73311   Saudi Arabia  \n",
       "4  429700    9393          513434          China  "
      ]
     },
     "execution_count": 30,
     "metadata": {},
     "output_type": "execute_result"
    }
   ],
   "source": [
    "df.head()"
   ]
  },
  {
   "cell_type": "code",
   "execution_count": 31,
   "id": "fe84b835-249b-4063-84ad-d9fc2b5c3b95",
   "metadata": {},
   "outputs": [
    {
     "data": {
      "text/html": [
       "<div>\n",
       "<style scoped>\n",
       "    .dataframe tbody tr th:only-of-type {\n",
       "        vertical-align: middle;\n",
       "    }\n",
       "\n",
       "    .dataframe tbody tr th {\n",
       "        vertical-align: top;\n",
       "    }\n",
       "\n",
       "    .dataframe thead th {\n",
       "        text-align: right;\n",
       "    }\n",
       "</style>\n",
       "<table border=\"1\" class=\"dataframe\">\n",
       "  <thead>\n",
       "    <tr style=\"text-align: right;\">\n",
       "      <th></th>\n",
       "      <th>Ranking</th>\n",
       "      <th>CompanyName</th>\n",
       "      <th>Industry</th>\n",
       "      <th>Revenue($)</th>\n",
       "      <th>Profit($)</th>\n",
       "      <th>EmployeeNumber</th>\n",
       "      <th>Headquaters</th>\n",
       "    </tr>\n",
       "  </thead>\n",
       "  <tbody>\n",
       "    <tr>\n",
       "      <th>0</th>\n",
       "      <td>1</td>\n",
       "      <td>Walmart</td>\n",
       "      <td>Retail</td>\n",
       "      <td>680985</td>\n",
       "      <td>19436</td>\n",
       "      <td>2100000</td>\n",
       "      <td>United States</td>\n",
       "    </tr>\n",
       "    <tr>\n",
       "      <th>1</th>\n",
       "      <td>2</td>\n",
       "      <td>Amazon</td>\n",
       "      <td>Retail  information technology</td>\n",
       "      <td>637959</td>\n",
       "      <td>59248</td>\n",
       "      <td>1556000</td>\n",
       "      <td>United States</td>\n",
       "    </tr>\n",
       "  </tbody>\n",
       "</table>\n",
       "</div>"
      ],
      "text/plain": [
       "   Ranking CompanyName                        Industry Revenue($) Profit($)  \\\n",
       "0        1     Walmart                          Retail     680985     19436   \n",
       "1        2      Amazon  Retail  information technology     637959     59248   \n",
       "\n",
       "   EmployeeNumber    Headquaters  \n",
       "0         2100000  United States  \n",
       "1         1556000  United States  "
      ]
     },
     "execution_count": 31,
     "metadata": {},
     "output_type": "execute_result"
    }
   ],
   "source": [
    "# rename Rev & Profit column \n",
    "df.rename(columns=\n",
    "         {\n",
    "          'Revenue': 'Revenue($)',\n",
    "          'Profit': 'Profit($)'\n",
    "         }, inplace=True\n",
    "         )\n",
    "df.head(2)"
   ]
  },
  {
   "cell_type": "code",
   "execution_count": 32,
   "id": "e7eeee11-604c-4fd2-8dbc-b29eb9dffcc0",
   "metadata": {},
   "outputs": [
    {
     "data": {
      "text/plain": [
       "Ranking             int64\n",
       "CompanyName        object\n",
       "Industry           object\n",
       "Revenue($)        float64\n",
       "Profit($)         float64\n",
       "EmployeeNumber      int64\n",
       "Headquaters        object\n",
       "dtype: object"
      ]
     },
     "execution_count": 32,
     "metadata": {},
     "output_type": "execute_result"
    }
   ],
   "source": [
    "# convert object to float \n",
    "df[['Revenue($)','Profit($)']]= df[['Revenue($)','Profit($)' ]].astype(float)\n",
    "df.dtypes"
   ]
  },
  {
   "cell_type": "code",
   "execution_count": 33,
   "id": "7a08cdc9-bb14-43d3-a958-be6878923d62",
   "metadata": {},
   "outputs": [
    {
     "data": {
      "text/html": [
       "<div>\n",
       "<style scoped>\n",
       "    .dataframe tbody tr th:only-of-type {\n",
       "        vertical-align: middle;\n",
       "    }\n",
       "\n",
       "    .dataframe tbody tr th {\n",
       "        vertical-align: top;\n",
       "    }\n",
       "\n",
       "    .dataframe thead th {\n",
       "        text-align: right;\n",
       "    }\n",
       "</style>\n",
       "<table border=\"1\" class=\"dataframe\">\n",
       "  <thead>\n",
       "    <tr style=\"text-align: right;\">\n",
       "      <th></th>\n",
       "      <th>Ranking</th>\n",
       "      <th>CompanyName</th>\n",
       "      <th>Industry</th>\n",
       "      <th>Revenue($)</th>\n",
       "      <th>Profit($)</th>\n",
       "      <th>EmployeeNumber</th>\n",
       "      <th>Headquaters</th>\n",
       "    </tr>\n",
       "  </thead>\n",
       "  <tbody>\n",
       "    <tr>\n",
       "      <th>0</th>\n",
       "      <td>1</td>\n",
       "      <td>Walmart</td>\n",
       "      <td>Retail</td>\n",
       "      <td>680985.0</td>\n",
       "      <td>19436.0</td>\n",
       "      <td>2100000</td>\n",
       "      <td>United States</td>\n",
       "    </tr>\n",
       "    <tr>\n",
       "      <th>1</th>\n",
       "      <td>2</td>\n",
       "      <td>Amazon</td>\n",
       "      <td>Retail  information technology</td>\n",
       "      <td>637959.0</td>\n",
       "      <td>59248.0</td>\n",
       "      <td>1556000</td>\n",
       "      <td>United States</td>\n",
       "    </tr>\n",
       "    <tr>\n",
       "      <th>2</th>\n",
       "      <td>3</td>\n",
       "      <td>State Grid Corporation of China</td>\n",
       "      <td>Electricity</td>\n",
       "      <td>545948.0</td>\n",
       "      <td>9204.0</td>\n",
       "      <td>1361423</td>\n",
       "      <td>China</td>\n",
       "    </tr>\n",
       "    <tr>\n",
       "      <th>3</th>\n",
       "      <td>4</td>\n",
       "      <td>Saudi Aramco</td>\n",
       "      <td>Oil and gas</td>\n",
       "      <td>480446.0</td>\n",
       "      <td>106246.0</td>\n",
       "      <td>73311</td>\n",
       "      <td>Saudi Arabia</td>\n",
       "    </tr>\n",
       "    <tr>\n",
       "      <th>4</th>\n",
       "      <td>5</td>\n",
       "      <td>China Petrochemical Corporation</td>\n",
       "      <td>Oil and gas</td>\n",
       "      <td>429700.0</td>\n",
       "      <td>9393.0</td>\n",
       "      <td>513434</td>\n",
       "      <td>China</td>\n",
       "    </tr>\n",
       "  </tbody>\n",
       "</table>\n",
       "</div>"
      ],
      "text/plain": [
       "   Ranking                      CompanyName                        Industry  \\\n",
       "0        1                          Walmart                          Retail   \n",
       "1        2                           Amazon  Retail  information technology   \n",
       "2        3  State Grid Corporation of China                     Electricity   \n",
       "3        4                     Saudi Aramco                     Oil and gas   \n",
       "4        5  China Petrochemical Corporation                     Oil and gas   \n",
       "\n",
       "   Revenue($)  Profit($)  EmployeeNumber    Headquaters  \n",
       "0    680985.0    19436.0         2100000  United States  \n",
       "1    637959.0    59248.0         1556000  United States  \n",
       "2    545948.0     9204.0         1361423          China  \n",
       "3    480446.0   106246.0           73311   Saudi Arabia  \n",
       "4    429700.0     9393.0          513434          China  "
      ]
     },
     "execution_count": 33,
     "metadata": {},
     "output_type": "execute_result"
    }
   ],
   "source": [
    "df.head()"
   ]
  },
  {
   "cell_type": "markdown",
   "id": "3b220289-7371-4f55-9e98-1aba0bc6b5f2",
   "metadata": {},
   "source": [
    "# Subsetting a DataFrame"
   ]
  },
  {
   "cell_type": "code",
   "execution_count": 36,
   "id": "74e6ceda-18e6-4e85-84e6-6ebf7f4a57bf",
   "metadata": {},
   "outputs": [
    {
     "data": {
      "text/html": [
       "<div>\n",
       "<style scoped>\n",
       "    .dataframe tbody tr th:only-of-type {\n",
       "        vertical-align: middle;\n",
       "    }\n",
       "\n",
       "    .dataframe tbody tr th {\n",
       "        vertical-align: top;\n",
       "    }\n",
       "\n",
       "    .dataframe thead th {\n",
       "        text-align: right;\n",
       "    }\n",
       "</style>\n",
       "<table border=\"1\" class=\"dataframe\">\n",
       "  <thead>\n",
       "    <tr style=\"text-align: right;\">\n",
       "      <th></th>\n",
       "      <th>Revenue($)</th>\n",
       "      <th>Profit($)</th>\n",
       "    </tr>\n",
       "  </thead>\n",
       "  <tbody>\n",
       "    <tr>\n",
       "      <th>1</th>\n",
       "      <td>637959.0</td>\n",
       "      <td>59248.0</td>\n",
       "    </tr>\n",
       "    <tr>\n",
       "      <th>2</th>\n",
       "      <td>545948.0</td>\n",
       "      <td>9204.0</td>\n",
       "    </tr>\n",
       "    <tr>\n",
       "      <th>3</th>\n",
       "      <td>480446.0</td>\n",
       "      <td>106246.0</td>\n",
       "    </tr>\n",
       "    <tr>\n",
       "      <th>4</th>\n",
       "      <td>429700.0</td>\n",
       "      <td>9393.0</td>\n",
       "    </tr>\n",
       "    <tr>\n",
       "      <th>5</th>\n",
       "      <td>476000.0</td>\n",
       "      <td>25250.0</td>\n",
       "    </tr>\n",
       "  </tbody>\n",
       "</table>\n",
       "</div>"
      ],
      "text/plain": [
       "   Revenue($)  Profit($)\n",
       "1    637959.0    59248.0\n",
       "2    545948.0     9204.0\n",
       "3    480446.0   106246.0\n",
       "4    429700.0     9393.0\n",
       "5    476000.0    25250.0"
      ]
     },
     "execution_count": 36,
     "metadata": {},
     "output_type": "execute_result"
    }
   ],
   "source": [
    "# subset the data \n",
    "# to bring out Rev & Profit\n",
    "df_subset = df.loc[[i for i in range(1,21)],['Revenue($)', 'Profit($)']]\n",
    "# this will bring out the first 20 rows of the Rev and Profit column \n",
    "df_subset.head()"
   ]
  },
  {
   "cell_type": "code",
   "execution_count": 37,
   "id": "33e1568b-c8e2-47de-9be5-964e032d0c9c",
   "metadata": {},
   "outputs": [
    {
     "data": {
      "text/html": [
       "<div>\n",
       "<style scoped>\n",
       "    .dataframe tbody tr th:only-of-type {\n",
       "        vertical-align: middle;\n",
       "    }\n",
       "\n",
       "    .dataframe tbody tr th {\n",
       "        vertical-align: top;\n",
       "    }\n",
       "\n",
       "    .dataframe thead th {\n",
       "        text-align: right;\n",
       "    }\n",
       "</style>\n",
       "<table border=\"1\" class=\"dataframe\">\n",
       "  <thead>\n",
       "    <tr style=\"text-align: right;\">\n",
       "      <th></th>\n",
       "      <th>Revenue($)</th>\n",
       "      <th>Profit($)</th>\n",
       "    </tr>\n",
       "  </thead>\n",
       "  <tbody>\n",
       "    <tr>\n",
       "      <th>count</th>\n",
       "      <td>20.000000</td>\n",
       "      <td>20.000000</td>\n",
       "    </tr>\n",
       "    <tr>\n",
       "      <th>mean</th>\n",
       "      <td>374037.050000</td>\n",
       "      <td>37000.750000</td>\n",
       "    </tr>\n",
       "    <tr>\n",
       "      <th>std</th>\n",
       "      <td>99667.859128</td>\n",
       "      <td>37290.643909</td>\n",
       "    </tr>\n",
       "    <tr>\n",
       "      <th>min</th>\n",
       "      <td>244280.000000</td>\n",
       "      <td>1745.000000</td>\n",
       "    </tr>\n",
       "    <tr>\n",
       "      <th>25%</th>\n",
       "      <td>318327.750000</td>\n",
       "      <td>8989.000000</td>\n",
       "    </tr>\n",
       "    <tr>\n",
       "      <th>50%</th>\n",
       "      <td>349213.000000</td>\n",
       "      <td>18652.000000</td>\n",
       "    </tr>\n",
       "    <tr>\n",
       "      <th>75%</th>\n",
       "      <td>407633.500000</td>\n",
       "      <td>66470.000000</td>\n",
       "    </tr>\n",
       "    <tr>\n",
       "      <th>max</th>\n",
       "      <td>637959.000000</td>\n",
       "      <td>106246.000000</td>\n",
       "    </tr>\n",
       "  </tbody>\n",
       "</table>\n",
       "</div>"
      ],
      "text/plain": [
       "          Revenue($)      Profit($)\n",
       "count      20.000000      20.000000\n",
       "mean   374037.050000   37000.750000\n",
       "std     99667.859128   37290.643909\n",
       "min    244280.000000    1745.000000\n",
       "25%    318327.750000    8989.000000\n",
       "50%    349213.000000   18652.000000\n",
       "75%    407633.500000   66470.000000\n",
       "max    637959.000000  106246.000000"
      ]
     },
     "execution_count": 37,
     "metadata": {},
     "output_type": "execute_result"
    }
   ],
   "source": [
    "# summary statistics: shows the mean(avg), median(50%) & the distribution of the data\n",
    "df_subset.describe()"
   ]
  },
  {
   "cell_type": "markdown",
   "id": "65508635-3db8-4fd1-8b56-bd4d7dcef880",
   "metadata": {},
   "source": [
    "## Filtering "
   ]
  },
  {
   "cell_type": "code",
   "execution_count": 39,
   "id": "d6eac95e-d8b4-4656-9f89-96fb5efba162",
   "metadata": {},
   "outputs": [
    {
     "data": {
      "text/html": [
       "<div>\n",
       "<style scoped>\n",
       "    .dataframe tbody tr th:only-of-type {\n",
       "        vertical-align: middle;\n",
       "    }\n",
       "\n",
       "    .dataframe tbody tr th {\n",
       "        vertical-align: top;\n",
       "    }\n",
       "\n",
       "    .dataframe thead th {\n",
       "        text-align: right;\n",
       "    }\n",
       "</style>\n",
       "<table border=\"1\" class=\"dataframe\">\n",
       "  <thead>\n",
       "    <tr style=\"text-align: right;\">\n",
       "      <th></th>\n",
       "      <th>Ranking</th>\n",
       "      <th>CompanyName</th>\n",
       "      <th>Industry</th>\n",
       "      <th>Revenue($)</th>\n",
       "      <th>Profit($)</th>\n",
       "      <th>EmployeeNumber</th>\n",
       "      <th>Headquaters</th>\n",
       "    </tr>\n",
       "  </thead>\n",
       "  <tbody>\n",
       "    <tr>\n",
       "      <th>0</th>\n",
       "      <td>1</td>\n",
       "      <td>Walmart</td>\n",
       "      <td>Retail</td>\n",
       "      <td>680985.0</td>\n",
       "      <td>19436.0</td>\n",
       "      <td>2100000</td>\n",
       "      <td>United States</td>\n",
       "    </tr>\n",
       "    <tr>\n",
       "      <th>1</th>\n",
       "      <td>2</td>\n",
       "      <td>Amazon</td>\n",
       "      <td>Retail  information technology</td>\n",
       "      <td>637959.0</td>\n",
       "      <td>59248.0</td>\n",
       "      <td>1556000</td>\n",
       "      <td>United States</td>\n",
       "    </tr>\n",
       "    <tr>\n",
       "      <th>2</th>\n",
       "      <td>3</td>\n",
       "      <td>State Grid Corporation of China</td>\n",
       "      <td>Electricity</td>\n",
       "      <td>545948.0</td>\n",
       "      <td>9204.0</td>\n",
       "      <td>1361423</td>\n",
       "      <td>China</td>\n",
       "    </tr>\n",
       "    <tr>\n",
       "      <th>3</th>\n",
       "      <td>4</td>\n",
       "      <td>Saudi Aramco</td>\n",
       "      <td>Oil and gas</td>\n",
       "      <td>480446.0</td>\n",
       "      <td>106246.0</td>\n",
       "      <td>73311</td>\n",
       "      <td>Saudi Arabia</td>\n",
       "    </tr>\n",
       "    <tr>\n",
       "      <th>4</th>\n",
       "      <td>5</td>\n",
       "      <td>China Petrochemical Corporation</td>\n",
       "      <td>Oil and gas</td>\n",
       "      <td>429700.0</td>\n",
       "      <td>9393.0</td>\n",
       "      <td>513434</td>\n",
       "      <td>China</td>\n",
       "    </tr>\n",
       "  </tbody>\n",
       "</table>\n",
       "</div>"
      ],
      "text/plain": [
       "   Ranking                      CompanyName                        Industry  \\\n",
       "0        1                          Walmart                          Retail   \n",
       "1        2                           Amazon  Retail  information technology   \n",
       "2        3  State Grid Corporation of China                     Electricity   \n",
       "3        4                     Saudi Aramco                     Oil and gas   \n",
       "4        5  China Petrochemical Corporation                     Oil and gas   \n",
       "\n",
       "   Revenue($)  Profit($)  EmployeeNumber    Headquaters  \n",
       "0    680985.0    19436.0         2100000  United States  \n",
       "1    637959.0    59248.0         1556000  United States  \n",
       "2    545948.0     9204.0         1361423          China  \n",
       "3    480446.0   106246.0           73311   Saudi Arabia  \n",
       "4    429700.0     9393.0          513434          China  "
      ]
     },
     "execution_count": 39,
     "metadata": {},
     "output_type": "execute_result"
    }
   ],
   "source": [
    "df.head()"
   ]
  },
  {
   "cell_type": "code",
   "execution_count": 40,
   "id": "de88cf1e-0638-4e57-9c19-5ab25275a9c3",
   "metadata": {},
   "outputs": [
    {
     "data": {
      "text/plain": [
       "2100000"
      ]
     },
     "execution_count": 40,
     "metadata": {},
     "output_type": "execute_result"
    }
   ],
   "source": [
    "# to check the minimum & max no of employees \n",
    "df['EmployeeNumber'].min()\n",
    "df['EmployeeNumber'].max()"
   ]
  },
  {
   "cell_type": "code",
   "execution_count": null,
   "id": "dfd35a02-c990-42af-b36a-a017080a133f",
   "metadata": {},
   "outputs": [],
   "source": []
  },
  {
   "cell_type": "code",
   "execution_count": null,
   "id": "1a231a12-de21-4b29-892d-40bcd06d865c",
   "metadata": {},
   "outputs": [],
   "source": []
  },
  {
   "cell_type": "code",
   "execution_count": null,
   "id": "2437a906-0673-4a47-b4e9-ca15bd7a0ce4",
   "metadata": {},
   "outputs": [],
   "source": []
  },
  {
   "cell_type": "code",
   "execution_count": null,
   "id": "8696b509-0a73-4c60-b043-f7ac23466b36",
   "metadata": {},
   "outputs": [],
   "source": []
  },
  {
   "cell_type": "code",
   "execution_count": null,
   "id": "f29eb3ab-f5b3-40d1-9edf-a5895506f420",
   "metadata": {},
   "outputs": [],
   "source": []
  },
  {
   "cell_type": "code",
   "execution_count": null,
   "id": "1692ccc5-3a07-421b-9723-4a952311f08b",
   "metadata": {},
   "outputs": [],
   "source": []
  },
  {
   "cell_type": "code",
   "execution_count": null,
   "id": "056350fe-dd57-4aed-83b5-32226d974b92",
   "metadata": {},
   "outputs": [],
   "source": []
  },
  {
   "cell_type": "code",
   "execution_count": null,
   "id": "08054b31-28a2-4f4e-bed3-1de51b495e9e",
   "metadata": {},
   "outputs": [],
   "source": []
  }
 ],
 "metadata": {
  "kernelspec": {
   "display_name": "Python 3 (ipykernel)",
   "language": "python",
   "name": "python3"
  },
  "language_info": {
   "codemirror_mode": {
    "name": "ipython",
    "version": 3
   },
   "file_extension": ".py",
   "mimetype": "text/x-python",
   "name": "python",
   "nbconvert_exporter": "python",
   "pygments_lexer": "ipython3",
   "version": "3.12.4"
  }
 },
 "nbformat": 4,
 "nbformat_minor": 5
}
