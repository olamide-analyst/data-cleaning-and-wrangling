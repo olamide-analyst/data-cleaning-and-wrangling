{
 "cells": [
  {
   "cell_type": "markdown",
   "id": "f7031cb2-93da-49aa-890f-078890d85d86",
   "metadata": {},
   "source": [
    "# Data cleaning with pandas"
   ]
  },
  {
   "cell_type": "code",
   "execution_count": 2,
   "id": "04e7fbe0-2c08-4588-b131-539d6d9764a4",
   "metadata": {},
   "outputs": [],
   "source": [
    "import pandas as pd"
   ]
  },
  {
   "cell_type": "code",
   "execution_count": 3,
   "id": "4095fafc-a2cd-4a7c-9ecb-7e1a62970080",
   "metadata": {},
   "outputs": [],
   "source": [
    "sales = pd.read_csv('sales_data.csv')"
   ]
  },
  {
   "cell_type": "code",
   "execution_count": 4,
   "id": "e2e3a9a0-1ca3-422f-838c-62f6d2108fca",
   "metadata": {},
   "outputs": [],
   "source": [
    "product = pd.read_csv('product_data.csv')"
   ]
  },
  {
   "cell_type": "markdown",
   "id": "84b4b0ec-b81b-44e8-a286-f9fc9615fd1f",
   "metadata": {},
   "source": [
    "## Explore the data "
   ]
  },
  {
   "cell_type": "code",
   "execution_count": 6,
   "id": "86f7c9a3-6e1b-4b81-86fd-a92dbaa86933",
   "metadata": {},
   "outputs": [
    {
     "data": {
      "text/html": [
       "<div>\n",
       "<style scoped>\n",
       "    .dataframe tbody tr th:only-of-type {\n",
       "        vertical-align: middle;\n",
       "    }\n",
       "\n",
       "    .dataframe tbody tr th {\n",
       "        vertical-align: top;\n",
       "    }\n",
       "\n",
       "    .dataframe thead th {\n",
       "        text-align: right;\n",
       "    }\n",
       "</style>\n",
       "<table border=\"1\" class=\"dataframe\">\n",
       "  <thead>\n",
       "    <tr style=\"text-align: right;\">\n",
       "      <th></th>\n",
       "      <th>sale_id</th>\n",
       "      <th>date</th>\n",
       "      <th>store_id</th>\n",
       "      <th>product_id</th>\n",
       "      <th>units_sold</th>\n",
       "      <th>unit_price</th>\n",
       "      <th>sales_rep</th>\n",
       "    </tr>\n",
       "  </thead>\n",
       "  <tbody>\n",
       "    <tr>\n",
       "      <th>0</th>\n",
       "      <td>1</td>\n",
       "      <td>2023-01-01</td>\n",
       "      <td>3</td>\n",
       "      <td>102</td>\n",
       "      <td>15.0</td>\n",
       "      <td>39.00</td>\n",
       "      <td>NaN</td>\n",
       "    </tr>\n",
       "    <tr>\n",
       "      <th>1</th>\n",
       "      <td>2</td>\n",
       "      <td>2023-01-02</td>\n",
       "      <td>4</td>\n",
       "      <td>103</td>\n",
       "      <td>12.0</td>\n",
       "      <td>21.27</td>\n",
       "      <td>Charlie</td>\n",
       "    </tr>\n",
       "    <tr>\n",
       "      <th>2</th>\n",
       "      <td>3</td>\n",
       "      <td>2023-01-03</td>\n",
       "      <td>1</td>\n",
       "      <td>101</td>\n",
       "      <td>NaN</td>\n",
       "      <td>52.69</td>\n",
       "      <td>Alice</td>\n",
       "    </tr>\n",
       "  </tbody>\n",
       "</table>\n",
       "</div>"
      ],
      "text/plain": [
       "   sale_id        date  store_id  product_id  units_sold  unit_price sales_rep\n",
       "0        1  2023-01-01         3         102        15.0       39.00       NaN\n",
       "1        2  2023-01-02         4         103        12.0       21.27   Charlie\n",
       "2        3  2023-01-03         1         101         NaN       52.69     Alice"
      ]
     },
     "execution_count": 6,
     "metadata": {},
     "output_type": "execute_result"
    }
   ],
   "source": [
    "sales.head(3)"
   ]
  },
  {
   "cell_type": "code",
   "execution_count": 7,
   "id": "f629ab94-5fc3-4d19-8887-a7c35af9f1ad",
   "metadata": {},
   "outputs": [
    {
     "name": "stdout",
     "output_type": "stream",
     "text": [
      "<class 'pandas.core.frame.DataFrame'>\n",
      "RangeIndex: 1000 entries, 0 to 999\n",
      "Data columns (total 7 columns):\n",
      " #   Column      Non-Null Count  Dtype  \n",
      "---  ------      --------------  -----  \n",
      " 0   sale_id     1000 non-null   int64  \n",
      " 1   date        1000 non-null   object \n",
      " 2   store_id    1000 non-null   int64  \n",
      " 3   product_id  1000 non-null   int64  \n",
      " 4   units_sold  900 non-null    float64\n",
      " 5   unit_price  900 non-null    float64\n",
      " 6   sales_rep   715 non-null    object \n",
      "dtypes: float64(2), int64(3), object(2)\n",
      "memory usage: 54.8+ KB\n"
     ]
    }
   ],
   "source": [
    "sales.info()"
   ]
  },
  {
   "cell_type": "markdown",
   "id": "2538e2b4-f43e-450e-91e5-714d07d24c53",
   "metadata": {},
   "source": [
    "* fix missing info in unit_sold, unit_price and sales_rep column\n",
    "* Date column needs to be standardized"
   ]
  },
  {
   "cell_type": "code",
   "execution_count": 9,
   "id": "27777e9d-8237-4d6f-9013-6dbc5b0eafb6",
   "metadata": {},
   "outputs": [
    {
     "data": {
      "text/plain": [
       "array([3, 4, 1, 2], dtype=int64)"
      ]
     },
     "execution_count": 9,
     "metadata": {},
     "output_type": "execute_result"
    }
   ],
   "source": [
    "# how many stores present \n",
    "sales['store_id'].unique()"
   ]
  },
  {
   "cell_type": "code",
   "execution_count": 10,
   "id": "df30611f-005c-4683-b4d9-2f6d2b3d0eff",
   "metadata": {},
   "outputs": [
    {
     "data": {
      "text/plain": [
       "array([102, 103, 101, 104], dtype=int64)"
      ]
     },
     "execution_count": 10,
     "metadata": {},
     "output_type": "execute_result"
    }
   ],
   "source": [
    "# how many products present \n",
    "sales['product_id'].unique()"
   ]
  },
  {
   "cell_type": "code",
   "execution_count": 11,
   "id": "91ea287a-46d6-4e40-a022-2368f9d96539",
   "metadata": {},
   "outputs": [
    {
     "data": {
      "text/plain": [
       "array([nan, 'Charlie', 'Alice', 'Bob', 'David'], dtype=object)"
      ]
     },
     "execution_count": 11,
     "metadata": {},
     "output_type": "execute_result"
    }
   ],
   "source": [
    "sales['sales_rep'].unique()"
   ]
  },
  {
   "cell_type": "code",
   "execution_count": 12,
   "id": "1e1741b2-8f0b-474f-866d-d2ca8529dba8",
   "metadata": {},
   "outputs": [
    {
     "data": {
      "text/plain": [
       "'2023-01-01'"
      ]
     },
     "execution_count": 12,
     "metadata": {},
     "output_type": "execute_result"
    }
   ],
   "source": [
    "sales['date'].min()"
   ]
  },
  {
   "cell_type": "code",
   "execution_count": 13,
   "id": "b2df78d2-5c1d-4f14-b283-999085f2c7ff",
   "metadata": {},
   "outputs": [
    {
     "data": {
      "text/plain": [
       "'2025-09-26'"
      ]
     },
     "execution_count": 13,
     "metadata": {},
     "output_type": "execute_result"
    }
   ],
   "source": [
    "sales['date'].max()"
   ]
  },
  {
   "cell_type": "code",
   "execution_count": 14,
   "id": "393fb946-5fef-47fd-a70c-54513dd223f3",
   "metadata": {},
   "outputs": [
    {
     "name": "stdout",
     "output_type": "stream",
     "text": [
      "The dataset contains sales from '2023-01-01' to '2023-01-01.\n",
      "The dataset contains 4 products, 4 stores and 5 sales rep.\n"
     ]
    }
   ],
   "source": [
    "print(f\"The dataset contains sales from '{sales['date'].min()}' to '{sales['date'].min()}.\")\n",
    "\n",
    "print(f'The dataset contains {\n",
    "    len(sales['product_id'].unique())} products, {\n",
    "    len(sales['store_id'].unique())} stores and {\n",
    "    len(sales['sales_rep'].unique())} sales rep.')"
   ]
  },
  {
   "cell_type": "code",
   "execution_count": 42,
   "id": "3b70d2fb-27de-4691-9116-7a84a6117c69",
   "metadata": {},
   "outputs": [],
   "source": [
    "# check for duplicates \n",
    "\n",
    "duplicate_ids =sales['sale_id'].value_counts()\n",
    "for id, counts in duplicate_ids.items():\n",
    "    if counts > 1:\n",
    "        print(id)"
   ]
  },
  {
   "cell_type": "markdown",
   "id": "ad403e95-45d4-4d6e-935f-fe417aa00913",
   "metadata": {},
   "source": [
    "* No id was printed: no duplicates in the dataset"
   ]
  },
  {
   "cell_type": "code",
   "execution_count": 16,
   "id": "611cf64b-81be-4c8f-a605-1a756b560459",
   "metadata": {},
   "outputs": [
    {
     "data": {
      "text/plain": [
       "['sale_id',\n",
       " 'date',\n",
       " 'store_id',\n",
       " 'product_id',\n",
       " 'units_sold',\n",
       " 'unit_price',\n",
       " 'sales_rep']"
      ]
     },
     "execution_count": 16,
     "metadata": {},
     "output_type": "execute_result"
    }
   ],
   "source": [
    "list(sales.columns)"
   ]
  },
  {
   "cell_type": "markdown",
   "id": "62e2ec27-e4dc-4def-af0e-f0d8796cfb5c",
   "metadata": {},
   "source": [
    "## Data Cleaning"
   ]
  },
  {
   "cell_type": "code",
   "execution_count": 74,
   "id": "51b7aa0a-15ea-49bd-a23d-ba164404bf5e",
   "metadata": {},
   "outputs": [
    {
     "data": {
      "text/plain": [
       "sale_id                int64\n",
       "date          datetime64[ns]\n",
       "store_id               int64\n",
       "product_id             int64\n",
       "units_sold           float64\n",
       "unit_price           float64\n",
       "sales_rep             object\n",
       "dtype: object"
      ]
     },
     "execution_count": 74,
     "metadata": {},
     "output_type": "execute_result"
    }
   ],
   "source": [
    "# format/standardize date column \n",
    "sales['date']= pd.to_datetime(sales['date'])\n",
    "sales.dtypes"
   ]
  },
  {
   "cell_type": "code",
   "execution_count": 62,
   "id": "02a9642a-43d8-403c-bcaf-0a60e50afb43",
   "metadata": {},
   "outputs": [],
   "source": [
    "# Drop missng values (nulls) across rows: units_sold, unit_price, sales_rep \n",
    "sales.dropna(subset= ['units_sold', 'unit_price', 'sales_rep'], axis=0, inplace=True)"
   ]
  },
  {
   "cell_type": "markdown",
   "id": "8eaf18ed-ed77-48c3-be44-6d68b4e0bab5",
   "metadata": {},
   "source": [
    "## Data Transformation"
   ]
  },
  {
   "cell_type": "code",
   "execution_count": 68,
   "id": "2e963a9e-fcb5-4387-ba5b-da28608e16b3",
   "metadata": {},
   "outputs": [
    {
     "name": "stdout",
     "output_type": "stream",
     "text": [
      "<class 'pandas.core.frame.DataFrame'>\n",
      "Index: 578 entries, 1 to 999\n",
      "Data columns (total 7 columns):\n",
      " #   Column      Non-Null Count  Dtype         \n",
      "---  ------      --------------  -----         \n",
      " 0   sale_id     578 non-null    int64         \n",
      " 1   date        578 non-null    datetime64[ns]\n",
      " 2   store_id    578 non-null    int64         \n",
      " 3   product_id  578 non-null    int64         \n",
      " 4   units_sold  578 non-null    float64       \n",
      " 5   unit_price  578 non-null    float64       \n",
      " 6   sales_rep   578 non-null    object        \n",
      "dtypes: datetime64[ns](1), float64(2), int64(3), object(1)\n",
      "memory usage: 36.1+ KB\n"
     ]
    }
   ],
   "source": [
    "sales.info()"
   ]
  },
  {
   "cell_type": "code",
   "execution_count": null,
   "id": "f9e79a34-e4df-4686-bbed-432a7129bc45",
   "metadata": {},
   "outputs": [],
   "source": []
  },
  {
   "cell_type": "code",
   "execution_count": null,
   "id": "2f10d840-cc21-4147-9afc-9d0918715e40",
   "metadata": {},
   "outputs": [],
   "source": []
  },
  {
   "cell_type": "code",
   "execution_count": null,
   "id": "a87e493a-0001-466c-be46-8a5de76ae027",
   "metadata": {},
   "outputs": [],
   "source": []
  },
  {
   "cell_type": "code",
   "execution_count": null,
   "id": "e0e41c0f-628b-4807-9262-10ab2460e1d7",
   "metadata": {},
   "outputs": [],
   "source": []
  },
  {
   "cell_type": "code",
   "execution_count": null,
   "id": "ebea886b-8905-4d9b-92a3-b5b97f9e9811",
   "metadata": {},
   "outputs": [],
   "source": []
  },
  {
   "cell_type": "code",
   "execution_count": null,
   "id": "50fe5a8f-331d-4511-9182-bc0c6c12ac3c",
   "metadata": {},
   "outputs": [],
   "source": []
  },
  {
   "cell_type": "code",
   "execution_count": null,
   "id": "d5369a9e-d2aa-4026-adcc-dc824df5564e",
   "metadata": {},
   "outputs": [],
   "source": []
  },
  {
   "cell_type": "code",
   "execution_count": null,
   "id": "8653a934-56a8-4838-a4c5-065d352df36f",
   "metadata": {},
   "outputs": [],
   "source": []
  },
  {
   "cell_type": "code",
   "execution_count": null,
   "id": "fe1fd413-53ec-4e07-964b-d4ac8fc89345",
   "metadata": {},
   "outputs": [],
   "source": []
  }
 ],
 "metadata": {
  "kernelspec": {
   "display_name": "Python 3 (ipykernel)",
   "language": "python",
   "name": "python3"
  },
  "language_info": {
   "codemirror_mode": {
    "name": "ipython",
    "version": 3
   },
   "file_extension": ".py",
   "mimetype": "text/x-python",
   "name": "python",
   "nbconvert_exporter": "python",
   "pygments_lexer": "ipython3",
   "version": "3.12.4"
  }
 },
 "nbformat": 4,
 "nbformat_minor": 5
}
